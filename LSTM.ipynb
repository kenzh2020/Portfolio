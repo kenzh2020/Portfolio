#Generl multivariable LSTM
import numpy as np
import matplotlib.pyplot as plt
plt.style.use('fivethirtyeight')
import pandas as pd
from sklearn.preprocessing import MinMaxScaler
import math
from sklearn.metrics import mean_squared_error
import csv

dataset = pd.read_csv(r'C:\tmp\SegFund_Dataset.csv')
dataset.head()

def GenScen(dataset,num):
    X_train = []
    y_train = []
    col=[2,12,13]
    for i in range(0,num):
        sen = dataset.iloc[i*14+2:(i+1)*14,col]
        X_train.append(sen.values)
        lab = dataset.iloc[i*14+1:(i+1)*14,16]
        y_train.append(np.diff(lab.values))
    return X_train,y_train

X, Y = GenScen(dataset,15005)

X_train, y_train = np.array(X), np.array(Y)

X_train.shape
(15005, 12, 3)

y_train.shape
(15005, 12)

import torch
import torch.nn as nn
from torch.autograd import Variable

class MLSTM(torch.nn.Module):
    def __init__(self,n_features,seq_length):
        super(MV_LSTM, self).__init__()
        self.n_features = n_features
        self.seq_len = seq_length
        self.n_hidden = 300 # number of hidden states
        self.n_layers = 2 # number of LSTM layers (stacked)
    
        self.l_lstm = torch.nn.LSTM(input_size = n_features, 
                                 hidden_size = self.n_hidden,
                                 num_layers = self.n_layers, 
                                 batch_first = True)
        # according to pytorch docs LSTM output is 
        # (batch_size,seq_len, num_directions * hidden_size)
        # when considering batch_first = True
        self.l_linear = torch.nn.Linear(self.n_hidden*self.seq_len, self.seq_len)
        
    def init_hidden(self, batch_size):
        # even with batch_first = True this remains same as docs
        hidden_state = torch.zeros(self.n_layers,batch_size,self.n_hidden)
        cell_state = torch.zeros(self.n_layers,batch_size,self.n_hidden)
        self.hidden = (hidden_state, cell_state)
    
    
    def forward(self, x):        
        batch_size, seq_len, hidden_size = x.size()
        
        lstm_out, self.hidden = self.l_lstm(x,self.hidden)
        # lstm_out(with batch_first = True) is 
        # (batch_size,seq_len,num_directions * hidden_size)
        # for following linear layer we want to keep batch_size dimension and merge rest       
        # .contiguous() -> solves tensor compatibility error
        # x = lstm_out.contiguous().view(batch_size,-1)
        x = lstm_out.contiguous().view(batch_size,-1)
        return self.l_linear(x)

n_features = 3 # this is number of parallel inputs
n_timesteps = 12 # this is number of timesteps

m_net = MLSTM(n_features,n_timesteps)
criterion = torch.nn.MSELoss() # reduction='sum' created huge loss value
criterion2 = torch.nn.L1Loss()
optimizer = torch.optim.Adam(mv_net.parameters(), lr=0.0005)

batch_size=5
num_epochs=100

m_net.train()

mse_err=[]
mae_err=[]
for epoch in range(num_epochs):
    err=[]
    err2=[]
    for b in range(0,len(X),batch_size):
        inpt = X_train[b:b+batch_size,:,:]
        target = y_train[b:b+batch_size,:]    

        x_batch = torch.tensor(inpt,dtype=torch.float32)    
        y_batch = torch.tensor(target,dtype=torch.float32)
        
        m_net.init_hidden(x_batch.size(0))

        output = m_net(x_batch)  
        
        mse = criterion(output, y_batch)  
        mae = criterion2(output, y_batch)
        err.append(mse.item())
        err2.append(mae.item())

        mse.backward()
        optimizer.step()        
        optimizer.zero_grad() 
    if((epoch+1)%5 == 0):Asad
        mse_err.append(np.mean(err))
        mae_err.append(np.mean(err2))
        print(f'Epoch [{epoch+1}/{num_epochs}] Loss: {np.mean(err):.2f} MAE: {np.mean(err2):2f}')

Epoch [5/100] Loss: 471265578.54 MAE: 21189.318035
Epoch [10/100] Loss: 10802953.57 MAE: 2521.004476
Epoch [15/100] Loss: 6318469.12 MAE: 1923.711881
Epoch [20/100] Loss: 5748872.18 MAE: 1827.641396
Epoch [25/100] Loss: 5328761.59 MAE: 1750.157165
Epoch [30/100] Loss: 5016669.78 MAE: 1690.453060
Epoch [35/100] Loss: 4777685.03 MAE: 1643.151734
Epoch [40/100] Loss: 4526742.39 MAE: 1596.579623
Epoch [45/100] Loss: 4266860.96 MAE: 1545.808894
Epoch [50/100] Loss: 3975941.82 MAE: 1494.229574
Epoch [55/100] Loss: 3648271.35 MAE: 1435.753239
Epoch [60/100] Loss: 3296626.93 MAE: 1366.779676
Epoch [65/100] Loss: 3009211.23 MAE: 1301.217575
Epoch [70/100] Loss: 2727035.64 MAE: 1237.089544
Epoch [75/100] Loss: 2503292.22 MAE: 1177.900280
Epoch [80/100] Loss: 2358597.99 MAE: 1135.129646
Epoch [85/100] Loss: 2144295.22 MAE: 1073.660065
Epoch [90/100] Loss: 1970784.85 MAE: 1020.647465
Epoch [95/100] Loss: 1894937.49 MAE: 988.478807
Epoch [100/100] Loss: 1777953.93 MAE: 952.882626
